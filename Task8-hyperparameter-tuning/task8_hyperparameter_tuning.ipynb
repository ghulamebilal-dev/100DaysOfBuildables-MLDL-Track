{
 "cells": [
  {
   "cell_type": "markdown",
   "id": "65c92119",
   "metadata": {},
   "source": [
    "# Task 8 — Hyperparameter Tuning (quick demo using Diabetes dataset)\n",
    "\n",
    "This notebook demonstrates hyperparameter tuning on a Random Forest for regression using sklearn's Diabetes dataset. The tuning run is intentionally small/fast so it finishes quickly in limited environments. It records MAE, RMSE, and R² before and after tuning, makes comparison plots, and includes reflection notes."
   ]
  },
  {
   "cell_type": "code",
   "execution_count": null,
   "id": "5a6080b7",
   "metadata": {},
   "outputs": [],
   "source": [
    "\n",
    "# Imports and dataset (built-in)\n",
    "import numpy as np\n",
    "import pandas as pd\n",
    "from sklearn.datasets import load_diabetes\n",
    "from sklearn.model_selection import train_test_split\n",
    "from sklearn.preprocessing import StandardScaler\n",
    "from sklearn.ensemble import RandomForestRegressor\n",
    "from sklearn.model_selection import RandomizedSearchCV\n",
    "from sklearn.metrics import mean_absolute_error, mean_squared_error, r2_score\n",
    "import matplotlib.pyplot as plt\n",
    "import os\n",
    "np.random.seed(42)\n",
    "\n",
    "data = load_diabetes(as_frame=True)\n",
    "X = data.frame.drop(columns=['target'])\n",
    "y = data.frame['target']\n",
    "\n",
    "X_train, X_test, y_train, y_test = train_test_split(X, y, test_size=0.2, random_state=42)\n",
    "scaler = StandardScaler()\n",
    "X_train_scaled = scaler.fit_transform(X_train)\n",
    "X_test_scaled = scaler.transform(X_test)\n",
    "print('Data ready.')\n"
   ]
  },
  {
   "cell_type": "code",
   "execution_count": null,
   "id": "e08d7d6f",
   "metadata": {},
   "outputs": [],
   "source": [
    "\n",
    "# Baseline model (small forest for speed)\n",
    "from sklearn.metrics import mean_absolute_error, mean_squared_error, r2_score\n",
    "baseline = RandomForestRegressor(n_estimators=10, random_state=42, n_jobs=1)\n",
    "baseline.fit(X_train_scaled, y_train)\n",
    "y_pred_base = baseline.predict(X_test_scaled)\n",
    "mae_base = mean_absolute_error(y_test, y_pred_base)\n",
    "rmse_base = mean_squared_error(y_test, y_pred_base, squared=False)\n",
    "r2_base = r2_score(y_test, y_pred_base)\n",
    "print('Baseline metrics ->', mae_base, rmse_base, r2_base)\n",
    "os.makedirs('/mnt/data/outputs', exist_ok=True)\n",
    "with open('/mnt/data/outputs/baseline_metrics.txt', 'w') as f:\n",
    "    print('MAE:', mae_base, file=f)\n",
    "    print('RMSE:', rmse_base, file=f)\n",
    "    print('R2:', r2_base, file=f)\n"
   ]
  },
  {
   "cell_type": "code",
   "execution_count": null,
   "id": "f29b999b",
   "metadata": {},
   "outputs": [],
   "source": [
    "\n",
    "# Quick RandomizedSearchCV (very small search for demo)\n",
    "param_dist = {\n",
    "    'n_estimators': [10, 20],\n",
    "    'max_depth': [None, 5],\n",
    "    'max_features': ['sqrt'],\n",
    "    'min_samples_split': [2]\n",
    "}\n",
    "rf = RandomForestRegressor(random_state=42, n_jobs=1)\n",
    "rs = RandomizedSearchCV(rf, param_distributions=param_dist, n_iter=2, cv=2, scoring='neg_mean_squared_error', random_state=42, n_jobs=1)\n",
    "rs.fit(X_train_scaled, y_train)\n",
    "best = rs.best_estimator_\n",
    "print('Best params:', rs.best_params_)\n",
    "with open('/mnt/data/outputs/best_params.txt', 'w') as f:\n",
    "    print(rs.best_params_, file=f)\n"
   ]
  },
  {
   "cell_type": "code",
   "execution_count": null,
   "id": "430af394",
   "metadata": {},
   "outputs": [],
   "source": [
    "\n",
    "# Evaluate tuned model\n",
    "y_pred_tuned = best.predict(X_test_scaled)\n",
    "mae_tuned = mean_absolute_error(y_test, y_pred_tuned)\n",
    "rmse_tuned = mean_squared_error(y_test, y_pred_tuned, squared=False)\n",
    "r2_tuned = r2_score(y_test, y_pred_tuned)\n",
    "print('Tuned metrics ->', mae_tuned, rmse_tuned, r2_tuned)\n",
    "with open('/mnt/data/outputs/tuned_metrics.txt', 'w') as f:\n",
    "    print('MAE:', mae_tuned, file=f)\n",
    "    print('RMSE:', rmse_tuned, file=f)\n",
    "    print('R2:', r2_tuned, file=f)\n"
   ]
  },
  {
   "cell_type": "code",
   "execution_count": null,
   "id": "50ff9062",
   "metadata": {},
   "outputs": [],
   "source": [
    "\n",
    "# Plots (MAE, RMSE, R2 before vs after)\n",
    "import matplotlib.pyplot as plt\n",
    "metrics_before = [mae_base, rmse_base, r2_base]\n",
    "metrics_after = [mae_tuned, rmse_tuned, r2_tuned]\n",
    "\n",
    "plt.figure(figsize=(6,4))\n",
    "plt.bar(['Before','After'], [metrics_before[0], metrics_after[0]])\n",
    "plt.title('MAE: Before vs After Tuning')\n",
    "plt.ylabel('MAE')\n",
    "plt.tight_layout()\n",
    "plt.savefig('/mnt/data/outputs/mae_before_after.png')\n",
    "plt.close()\n",
    "\n",
    "plt.figure(figsize=(6,4))\n",
    "plt.bar(['Before','After'], [metrics_before[1], metrics_after[1]])\n",
    "plt.title('RMSE: Before vs After Tuning')\n",
    "plt.ylabel('RMSE')\n",
    "plt.tight_layout()\n",
    "plt.savefig('/mnt/data/outputs/rmse_before_after.png')\n",
    "plt.close()\n",
    "\n",
    "plt.figure(figsize=(6,4))\n",
    "plt.bar(['Before','After'], [metrics_before[2], metrics_after[2]])\n",
    "plt.title('R2: Before vs After Tuning')\n",
    "plt.ylabel('R2')\n",
    "plt.tight_layout()\n",
    "plt.savefig('/mnt/data/outputs/r2_before_after.png')\n",
    "plt.close()\n",
    "\n",
    "print('Plots saved.')\n"
   ]
  },
  {
   "cell_type": "markdown",
   "id": "bfc353b2",
   "metadata": {},
   "source": [
    "\n",
    "# Reflection\n",
    "\n",
    "- Which hyperparameters made the biggest difference?\n",
    "\n",
    "  See `outputs/best_params.txt` — typically `n_estimators` and `max_depth` change the bias-variance trade-off most.\n",
    "\n",
    "- Did tuning improve performance or not? Why?\n",
    "\n",
    "  Check `outputs/tuned_metrics.txt` and `outputs/baseline_metrics.txt`. Smaller tuning runs may or may not improve metrics — a larger search usually helps more.\n",
    "\n",
    "- Trade-off between accuracy and computation time:\n",
    "\n",
    "  Larger `n_estimators` and deeper trees improve accuracy but increase training time. Randomized search reduces computation compared to grid search by sampling parameter combos.\n"
   ]
  }
 ],
 "metadata": {
  "kernelspec": {
   "display_name": "Python 3",
   "name": "python3"
  }
 },
 "nbformat": 4,
 "nbformat_minor": 5
}
