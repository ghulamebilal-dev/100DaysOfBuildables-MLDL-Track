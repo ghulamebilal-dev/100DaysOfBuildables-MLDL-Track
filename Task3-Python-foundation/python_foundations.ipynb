{
 "cells": [
  {
   "cell_type": "code",
   "execution_count": null,
   "metadata": {},
   "outputs": [],
   "source": [
    "# 1. Variables & Data Types\n",
    "\n",
    "# Integer\n",
    "num = 10\n",
    "\n",
    "# Float\n",
    "pi = 3.14\n",
    "\n",
    "# String\n",
    "greeting = \"Hello, world!\"\n",
    "\n",
    "# List\n",
    "numbers = [1, 2, 3, 4, 5]\n",
    "\n",
    "# Print values and types\n",
    "print(num, type(num))\n",
    "print(pi, type(pi))\n",
    "print(greeting, type(greeting))\n",
    "print(numbers, type(numbers))\n"
   ]
  },
  {
   "cell_type": "markdown",
   "metadata": {},
   "source": [
    "## 1. Variables & Data Types\n",
    "\n",
    "In this section, we create variables of different types:\n",
    "- **Integer**\n",
    "- **Float**\n",
    "- **String**\n",
    "- **List**\n",
    "\n",
    "We’ll print both their values and their data types using the `type()` function.\n"
   ]
  },
  {
   "cell_type": "code",
   "execution_count": 2,
   "metadata": {},
   "outputs": [],
   "source": [
    "# 2. Conditionals\n",
    "\n",
    "number = int(input(\"Enter a number: \"))\n",
    "\n",
    "if number > 0:\n",
    "    print(\"Positive\")\n",
    "elif number < 0:\n",
    "    print(\"Negative\")\n",
    "else:\n",
    "    print(\"Zero\")\n"
   ]
  },
  {
   "cell_type": "markdown",
   "metadata": {},
   "source": [
    "## 2. Conditionals\n",
    "\n",
    "This program checks whether a number is:\n",
    "- Positive\n",
    "- Negative\n",
    "- Zero\n",
    "\n",
    "It uses `if`, `elif`, and `else` statements to make decisions based on user input.\n"
   ]
  },
  {
   "cell_type": "code",
   "execution_count": null,
   "metadata": {},
   "outputs": [],
   "source": [
    "# 3. Loops\n",
    "\n",
    "# a. Print first 10 natural numbers\n",
    "print(\"First 10 natural numbers:\")\n",
    "for i in range(1, 11):\n",
    "    print(i)\n",
    "\n",
    "# b. Factorial of a number using a loop\n",
    "num = int(input(\"Enter a number to find its factorial: \"))\n",
    "factorial = 1\n",
    "\n",
    "for i in range(1, num + 1):\n",
    "    factorial *= i\n",
    "\n",
    "print(f\"Factorial of {num} is {factorial}\")\n"
   ]
  },
  {
   "cell_type": "markdown",
   "metadata": {},
   "source": [
    "## 3. Loops\n",
    "\n",
    "In this section, we write two programs using loops:\n",
    "\n",
    "1. **Print first 10 natural numbers** using a `for` loop.\n",
    "2. **Calculate the factorial** of a number entered by the user, again using a `for` loop.\n"
   ]
  },
  {
   "cell_type": "code",
   "execution_count": null,
   "metadata": {},
   "outputs": [],
   "source": [
    "# 4. Functions\n",
    "\n",
    "# a. Greet function\n",
    "def greet(name):\n",
    "    print(f\"Hello, {name}!\")\n",
    "\n",
    "\n",
    "# b. Check if a number is even\n",
    "def is_even(num):\n",
    "    return num % 2 == 0\n",
    "\n",
    "\n",
    "# Test functions\n",
    "greet(\"Alice\")\n",
    "print(\"Is 4 even?\", is_even(4))\n",
    "print(\"Is 7 even?\", is_even(7))\n"
   ]
  },
  {
   "cell_type": "markdown",
   "metadata": {},
   "source": [
    "## 4. Functions\n",
    "\n",
    "We define and test two functions:\n",
    "\n",
    "1. `greet(name)`: Prints a personalized greeting.\n",
    "2. `is_even(num)`: Returns `True` if the number is even, `False` otherwise.\n",
    "\n",
    "Functions help us reuse code and organize logic cleanly.\n"
   ]
  },
  {
   "cell_type": "code",
   "execution_count": null,
   "metadata": {},
   "outputs": [],
   "source": [
    "# 5. List Operations\n",
    "\n",
    "numbers = [5, 1, 8, 3, 2]\n",
    "\n",
    "print(\"Original list:\", numbers)\n",
    "print(\"Max:\", max(numbers))\n",
    "print(\"Min:\", min(numbers))\n",
    "print(\"Sum:\", sum(numbers))\n",
    "print(\"Average:\", sum(numbers) / len(numbers))\n",
    "\n",
    "# Sort and reverse\n",
    "numbers.sort()\n",
    "print(\"Sorted list:\", numbers)\n",
    "\n",
    "numbers.reverse()\n",
    "print(\"Reversed list:\", numbers)\n"
   ]
  },
  {
   "cell_type": "markdown",
   "metadata": {},
   "source": [
    "## 5. List Operations\n",
    "\n",
    "We create a list of 5 numbers and perform the following operations:\n",
    "\n",
    "- Find the maximum, minimum, and sum using built-in functions\n",
    "- Calculate the average\n",
    "- Sort the list in ascending order\n",
    "- Reverse the list\n"
   ]
  },
  {
   "cell_type": "code",
   "execution_count": null,
   "metadata": {},
   "outputs": [],
   "source": [
    "# 6. Input/Output\n",
    "\n",
    "name = input(\"Enter your name: \")\n",
    "age = input(\"Enter your age: \")\n",
    "\n",
    "print(f\"Hello {name}, you are {age} years old.\")\n"
   ]
  },
  {
   "cell_type": "markdown",
   "metadata": {},
   "source": [
    "## 6. Input/Output\n",
    "\n",
    "We take input from the user:\n",
    "- Name\n",
    "- Age\n",
    "\n",
    "Then we print a message like:\n",
    "> Hello <name>, you are <age> years old.\n"
   ]
  }
 ],
 "metadata": {
  "kernelspec": {
   "display_name": "Python 3",
   "language": "python",
   "name": "python3"
  },
  "language_info": {
   "codemirror_mode": {
    "name": "ipython",
    "version": 3
   },
   "file_extension": ".py",
   "mimetype": "text/x-python",
   "name": "python",
   "nbconvert_exporter": "python",
   "pygments_lexer": "ipython3",
   "version": "3.12.6"
  }
 },
 "nbformat": 4,
 "nbformat_minor": 2
}
