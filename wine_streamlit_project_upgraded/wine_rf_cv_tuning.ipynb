{
 "cells": [
  {
   "cell_type": "markdown",
   "id": "4458e556",
   "metadata": {},
   "source": [
    "# Wine Classification — Random Forest + K-Fold CV + GridSearchCV\n",
    "\n",
    "This notebook covers: dataset loading, preprocessing, K-Fold cross-validation, hyperparameter tuning with `GridSearchCV`, model comparison, saving the best model, and notes for deployment in Streamlit.\n",
    "\n",
    "**Files included in the project:**\n",
    "- `app.py` — Streamlit app for real-time predictions\n",
    "- `train_model.py` — script to train and save the model\n",
    "- `model.joblib` — trained model (created when running the notebook)\n",
    "- `requirements.txt`, `README.md`, `medium_article.md`, `reflection.md`\n",
    "\n",
    "---"
   ]
  },
  {
   "cell_type": "code",
   "execution_count": null,
   "id": "135232a0",
   "metadata": {},
   "outputs": [],
   "source": [
    "# Imports\n",
    "import pandas as pd\n",
    "import numpy as np\n",
    "from sklearn.model_selection import train_test_split, cross_val_score, GridSearchCV, StratifiedKFold\n",
    "from sklearn.ensemble import RandomForestClassifier\n",
    "from sklearn.metrics import accuracy_score, classification_report, confusion_matrix, f1_score\n",
    "import joblib\n",
    "print(\"Libraries imported.\")"
   ]
  },
  {
   "cell_type": "code",
   "execution_count": null,
   "id": "cf95cc50",
   "metadata": {},
   "outputs": [],
   "source": [
    "# Load dataset (uploaded as wine_dataset.csv)\n",
    "df = pd.read_csv('/mnt/data/wine_dataset.csv')\n",
    "print('Shape:', df.shape)\n",
    "df.head()"
   ]
  },
  {
   "cell_type": "code",
   "execution_count": null,
   "id": "4dfddf4d",
   "metadata": {},
   "outputs": [],
   "source": [
    "# Basic preprocessing\n",
    "# if 'class' or 'target' exists, identify; otherwise assume last column is target.\n",
    "if 'target' in df.columns:\n",
    "    y = df['target']\n",
    "elif 'class' in df.columns:\n",
    "    y = df['class']\n",
    "elif 'Type' in df.columns:\n",
    "    y = df['Type']\n",
    "else:\n",
    "    y = df.iloc[:, -1]\n",
    "\n",
    "X = df.drop(y.name, axis=1)\n",
    "X = X.select_dtypes(include=[np.number])  # keep numeric features\n",
    "print('Features shape:', X.shape)\n",
    "print('Target distribution:\\n', y.value_counts())"
   ]
  },
  {
   "cell_type": "code",
   "execution_count": null,
   "id": "a50f0eff",
   "metadata": {},
   "outputs": [],
   "source": [
    "# Train/test split (for final holdout evaluation)\n",
    "X_train, X_test, y_train, y_test = train_test_split(X, y, test_size=0.2, random_state=42, stratify=y)\n",
    "print(X_train.shape, X_test.shape)"
   ]
  },
  {
   "cell_type": "markdown",
   "id": "a48bffde",
   "metadata": {},
   "source": [
    "## 1) Baseline Random Forest with 5-Fold Cross-Validation"
   ]
  },
  {
   "cell_type": "code",
   "execution_count": null,
   "id": "b087a39b",
   "metadata": {},
   "outputs": [],
   "source": [
    "# Baseline model and CV\n",
    "rf = RandomForestClassifier(random_state=42)\n",
    "cv = StratifiedKFold(n_splits=5, shuffle=True, random_state=42)\n",
    "scores = cross_val_score(rf, X_train, y_train, cv=cv, scoring='accuracy')\n",
    "print('CV Accuracy scores:', scores)\n",
    "print('Mean CV accuracy: {:.4f} ± {:.4f}'.format(scores.mean(), scores.std()))"
   ]
  },
  {
   "cell_type": "markdown",
   "id": "4172333a",
   "metadata": {},
   "source": [
    "## 2) Hyperparameter Tuning with GridSearchCV"
   ]
  },
  {
   "cell_type": "code",
   "execution_count": null,
   "id": "38fce473",
   "metadata": {},
   "outputs": [],
   "source": [
    "# GridSearchCV for RandomForest (small grid for speed; extend as needed)\n",
    "param_grid = {\n",
    "    'n_estimators': [50, 100, 200],\n",
    "    'max_depth': [None, 5, 10],\n",
    "    'min_samples_split': [2, 5],\n",
    "    'min_samples_leaf': [1, 2]\n",
    "}\n",
    "\n",
    "grid = GridSearchCV(RandomForestClassifier(random_state=42), param_grid, cv=cv, scoring='accuracy', n_jobs=-1, verbose=1)\n",
    "grid.fit(X_train, y_train)\n",
    "print('Best params:', grid.best_params_)\n",
    "print('Best CV score:', grid.best_score_)"
   ]
  },
  {
   "cell_type": "code",
   "execution_count": null,
   "id": "f0e75361",
   "metadata": {},
   "outputs": [],
   "source": [
    "# Evaluate best estimator on holdout test set\n",
    "best_rf = grid.best_estimator_\n",
    "y_pred = best_rf.predict(X_test)\n",
    "acc = accuracy_score(y_test, y_pred)\n",
    "f1 = f1_score(y_test, y_pred, average='weighted')\n",
    "print('Test Accuracy: {:.4f}'.format(acc))\n",
    "print('Test F1 (weighted): {:.4f}'.format(f1))\n",
    "print('\\nClassification report:\\n', classification_report(y_test, y_pred))"
   ]
  },
  {
   "cell_type": "code",
   "execution_count": null,
   "id": "2ed27fb2",
   "metadata": {},
   "outputs": [],
   "source": [
    "# Save the trained model\n",
    "import joblib\n",
    "model_path = '/mnt/data/wine_streamlit_project/model.joblib'\n",
    "joblib.dump(best_rf, model_path)\n",
    "print('Saved model to', model_path)"
   ]
  },
  {
   "cell_type": "markdown",
   "id": "f4b4d683",
   "metadata": {},
   "source": [
    "## 3) Short comparison: Pre-tuning vs Post-tuning (based on CV)"
   ]
  },
  {
   "cell_type": "code",
   "execution_count": null,
   "id": "4c6e56ef",
   "metadata": {},
   "outputs": [],
   "source": [
    "# Re-evaluate baseline RF with same CV for comparison\n",
    "from sklearn.base import clone\n",
    "base_rf = RandomForestClassifier(random_state=42)\n",
    "base_scores = cross_val_score(base_rf, X_train, y_train, cv=cv, scoring='accuracy')\n",
    "print('Baseline mean CV accuracy: {:.4f} ± {:.4f}'.format(base_scores.mean(), base_scores.std()))\n",
    "print('Tuned (GridSearch) CV accuracy: {:.4f} (from grid.best_score_)'.format(grid.best_score_))"
   ]
  },
  {
   "cell_type": "markdown",
   "id": "1416cad9",
   "metadata": {},
   "source": [
    "## 4) Notes for Streamlit deployment\n",
    "\n",
    "The `app.py` in the project uses the saved `model.joblib`. Run the app with:\n",
    "\n",
    "```\n",
    "streamlit run app.py\n",
    "```\n",
    "\n",
    "It displays sliders for each numeric feature and returns predicted class and prediction probabilities in real time."
   ]
  }
 ],
 "metadata": {},
 "nbformat": 4,
 "nbformat_minor": 5
}
