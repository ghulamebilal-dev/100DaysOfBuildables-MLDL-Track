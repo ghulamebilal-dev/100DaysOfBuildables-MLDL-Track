{
 "cells": [
  {
   "cell_type": "markdown",
   "id": "96c53081",
   "metadata": {},
   "source": [
    "# Wine Classification — Extended Tuning & XGBoost Comparison\n",
    "\n",
    "This notebook extends the previous work by adding RandomizedSearchCV for faster hyperparameter search, training and comparing an XGBoost classifier with Random Forest, and saving the best models. It also includes evaluation, plots, and notes for deployment.\n"
   ]
  },
  {
   "cell_type": "code",
   "execution_count": 1,
   "id": "8e951112",
   "metadata": {},
   "outputs": [
    {
     "name": "stdout",
     "output_type": "stream",
     "text": [
      "Libraries imported.\n"
     ]
    }
   ],
   "source": [
    "# Imports\n",
    "import pandas as pd\n",
    "import numpy as np\n",
    "from sklearn.model_selection import train_test_split, StratifiedKFold, cross_val_score, GridSearchCV, RandomizedSearchCV\n",
    "from sklearn.ensemble import RandomForestClassifier\n",
    "from xgboost import XGBClassifier\n",
    "from sklearn.metrics import accuracy_score, classification_report, confusion_matrix, f1_score\n",
    "import joblib\n",
    "import matplotlib.pyplot as plt\n",
    "print(\"Libraries imported.\")"
   ]
  },
  {
   "cell_type": "code",
   "execution_count": 2,
   "id": "8be88e94",
   "metadata": {},
   "outputs": [
    {
     "data": {
      "text/html": [
       "<div>\n",
       "<style scoped>\n",
       "    .dataframe tbody tr th:only-of-type {\n",
       "        vertical-align: middle;\n",
       "    }\n",
       "\n",
       "    .dataframe tbody tr th {\n",
       "        vertical-align: top;\n",
       "    }\n",
       "\n",
       "    .dataframe thead th {\n",
       "        text-align: right;\n",
       "    }\n",
       "</style>\n",
       "<table border=\"1\" class=\"dataframe\">\n",
       "  <thead>\n",
       "    <tr style=\"text-align: right;\">\n",
       "      <th></th>\n",
       "      <th>alcohol</th>\n",
       "      <th>malic_acid</th>\n",
       "      <th>ash</th>\n",
       "      <th>alcalinity_of_ash</th>\n",
       "      <th>magnesium</th>\n",
       "      <th>total_phenols</th>\n",
       "      <th>flavanoids</th>\n",
       "      <th>nonflavanoid_phenols</th>\n",
       "      <th>proanthocyanins</th>\n",
       "      <th>color_intensity</th>\n",
       "      <th>hue</th>\n",
       "      <th>od280/od315_of_diluted_wines</th>\n",
       "      <th>proline</th>\n",
       "      <th>target</th>\n",
       "    </tr>\n",
       "  </thead>\n",
       "  <tbody>\n",
       "    <tr>\n",
       "      <th>0</th>\n",
       "      <td>14.23</td>\n",
       "      <td>1.71</td>\n",
       "      <td>2.43</td>\n",
       "      <td>15.6</td>\n",
       "      <td>127.0</td>\n",
       "      <td>2.80</td>\n",
       "      <td>3.06</td>\n",
       "      <td>0.28</td>\n",
       "      <td>2.29</td>\n",
       "      <td>5.64</td>\n",
       "      <td>1.04</td>\n",
       "      <td>3.92</td>\n",
       "      <td>1065.0</td>\n",
       "      <td>0</td>\n",
       "    </tr>\n",
       "    <tr>\n",
       "      <th>1</th>\n",
       "      <td>13.20</td>\n",
       "      <td>1.78</td>\n",
       "      <td>2.14</td>\n",
       "      <td>11.2</td>\n",
       "      <td>100.0</td>\n",
       "      <td>2.65</td>\n",
       "      <td>2.76</td>\n",
       "      <td>0.26</td>\n",
       "      <td>1.28</td>\n",
       "      <td>4.38</td>\n",
       "      <td>1.05</td>\n",
       "      <td>3.40</td>\n",
       "      <td>1050.0</td>\n",
       "      <td>0</td>\n",
       "    </tr>\n",
       "    <tr>\n",
       "      <th>2</th>\n",
       "      <td>13.16</td>\n",
       "      <td>2.36</td>\n",
       "      <td>2.67</td>\n",
       "      <td>18.6</td>\n",
       "      <td>101.0</td>\n",
       "      <td>2.80</td>\n",
       "      <td>3.24</td>\n",
       "      <td>0.30</td>\n",
       "      <td>2.81</td>\n",
       "      <td>5.68</td>\n",
       "      <td>1.03</td>\n",
       "      <td>3.17</td>\n",
       "      <td>1185.0</td>\n",
       "      <td>0</td>\n",
       "    </tr>\n",
       "    <tr>\n",
       "      <th>3</th>\n",
       "      <td>14.37</td>\n",
       "      <td>1.95</td>\n",
       "      <td>2.50</td>\n",
       "      <td>16.8</td>\n",
       "      <td>113.0</td>\n",
       "      <td>3.85</td>\n",
       "      <td>3.49</td>\n",
       "      <td>0.24</td>\n",
       "      <td>2.18</td>\n",
       "      <td>7.80</td>\n",
       "      <td>0.86</td>\n",
       "      <td>3.45</td>\n",
       "      <td>1480.0</td>\n",
       "      <td>0</td>\n",
       "    </tr>\n",
       "    <tr>\n",
       "      <th>4</th>\n",
       "      <td>13.24</td>\n",
       "      <td>2.59</td>\n",
       "      <td>2.87</td>\n",
       "      <td>21.0</td>\n",
       "      <td>118.0</td>\n",
       "      <td>2.80</td>\n",
       "      <td>2.69</td>\n",
       "      <td>0.39</td>\n",
       "      <td>1.82</td>\n",
       "      <td>4.32</td>\n",
       "      <td>1.04</td>\n",
       "      <td>2.93</td>\n",
       "      <td>735.0</td>\n",
       "      <td>0</td>\n",
       "    </tr>\n",
       "  </tbody>\n",
       "</table>\n",
       "</div>"
      ],
      "text/plain": [
       "   alcohol  malic_acid   ash  alcalinity_of_ash  magnesium  total_phenols  \\\n",
       "0    14.23        1.71  2.43               15.6      127.0           2.80   \n",
       "1    13.20        1.78  2.14               11.2      100.0           2.65   \n",
       "2    13.16        2.36  2.67               18.6      101.0           2.80   \n",
       "3    14.37        1.95  2.50               16.8      113.0           3.85   \n",
       "4    13.24        2.59  2.87               21.0      118.0           2.80   \n",
       "\n",
       "   flavanoids  nonflavanoid_phenols  proanthocyanins  color_intensity   hue  \\\n",
       "0        3.06                  0.28             2.29             5.64  1.04   \n",
       "1        2.76                  0.26             1.28             4.38  1.05   \n",
       "2        3.24                  0.30             2.81             5.68  1.03   \n",
       "3        3.49                  0.24             2.18             7.80  0.86   \n",
       "4        2.69                  0.39             1.82             4.32  1.04   \n",
       "\n",
       "   od280/od315_of_diluted_wines  proline  target  \n",
       "0                          3.92   1065.0       0  \n",
       "1                          3.40   1050.0       0  \n",
       "2                          3.17   1185.0       0  \n",
       "3                          3.45   1480.0       0  \n",
       "4                          2.93    735.0       0  "
      ]
     },
     "metadata": {},
     "output_type": "display_data"
    }
   ],
   "source": [
    "# Load dataset\n",
    "df = pd.read_csv('wine_dataset.csv')\n",
    "display(df.head())"
   ]
  },
  {
   "cell_type": "code",
   "execution_count": 3,
   "id": "e74c68ce",
   "metadata": {},
   "outputs": [
    {
     "name": "stdout",
     "output_type": "stream",
     "text": [
      "Feature shape: (178, 13) Target distribution:\n",
      " target\n",
      "1    71\n",
      "0    59\n",
      "2    48\n",
      "Name: count, dtype: int64\n"
     ]
    }
   ],
   "source": [
    "# Detect target and prepare features\n",
    "for t in ['target','class','Type']:\n",
    "    if t in df.columns:\n",
    "        target = t\n",
    "        break\n",
    "else:\n",
    "    target = df.columns[-1]\n",
    "\n",
    "X = df.drop(columns=[target]).select_dtypes(include=[np.number])\n",
    "y = df[target]\n",
    "print('Feature shape:', X.shape, 'Target distribution:\\n', y.value_counts())"
   ]
  },
  {
   "cell_type": "code",
   "execution_count": 4,
   "id": "8f8ad570",
   "metadata": {},
   "outputs": [],
   "source": [
    "# Train/test split\n",
    "X_train, X_test, y_train, y_test = train_test_split(X, y, test_size=0.2, random_state=42, stratify=y)\n",
    "cv = StratifiedKFold(n_splits=5, shuffle=True, random_state=42)"
   ]
  },
  {
   "cell_type": "markdown",
   "id": "5ee058c6",
   "metadata": {},
   "source": [
    "## Baseline Random Forest CV"
   ]
  },
  {
   "cell_type": "code",
   "execution_count": 5,
   "id": "ea5bb92b",
   "metadata": {},
   "outputs": [
    {
     "name": "stdout",
     "output_type": "stream",
     "text": [
      "RF CV mean accuracy: 0.9791 ± 0.0277\n"
     ]
    }
   ],
   "source": [
    "rf = RandomForestClassifier(random_state=42)\n",
    "rf_scores = cross_val_score(rf, X_train, y_train, cv=cv, scoring='accuracy')\n",
    "print('RF CV mean accuracy: {:.4f} ± {:.4f}'.format(rf_scores.mean(), rf_scores.std()))"
   ]
  },
  {
   "cell_type": "markdown",
   "id": "99d2dfc9",
   "metadata": {},
   "source": [
    "## GridSearchCV for Random Forest (detailed grid)"
   ]
  },
  {
   "cell_type": "code",
   "execution_count": 6,
   "id": "ab88f81d",
   "metadata": {},
   "outputs": [
    {
     "name": "stdout",
     "output_type": "stream",
     "text": [
      "Fitting 5 folds for each of 108 candidates, totalling 540 fits\n"
     ]
    }
   ],
   "source": [
    "param_grid = {\n",
    "    'n_estimators': [50, 100, 200],\n",
    "    'max_depth': [None, 5, 10, 20],\n",
    "    'min_samples_split': [2, 5, 10],\n",
    "    'min_samples_leaf': [1, 2, 4]\n",
    "}\n",
    "grid_rf = GridSearchCV(RandomForestClassifier(random_state=42), param_grid, cv=cv, scoring='accuracy', n_jobs=-1, verbose=1)\n",
    "grid_rf.fit(X_train, y_train)\n",
    "print('Best RF params:', grid_rf.best_params_)\n",
    "print('Best RF CV score:', grid_rf.best_score_)"
   ]
  },
  {
   "cell_type": "markdown",
   "id": "a2b89101",
   "metadata": {},
   "source": [
    "## RandomizedSearchCV for Random Forest (faster, wider)"
   ]
  },
  {
   "cell_type": "code",
   "execution_count": null,
   "id": "6ae09aef",
   "metadata": {},
   "outputs": [],
   "source": [
    "from scipy.stats import randint as sp_randint\n",
    "from scipy.stats import uniform as sp_uniform\n",
    "\n",
    "param_dist = {\n",
    "    'n_estimators': sp_randint(50, 301),\n",
    "    'max_depth': [None, 5, 10, 20, 30],\n",
    "    'min_samples_split': sp_randint(2, 11),\n",
    "    'min_samples_leaf': sp_randint(1, 5)\n",
    "}\n",
    "rand_rf = RandomizedSearchCV(RandomForestClassifier(random_state=42), param_distributions=param_dist, n_iter=30, cv=cv, scoring='accuracy', n_jobs=-1, random_state=42, verbose=1)\n",
    "rand_rf.fit(X_train, y_train)\n",
    "print('Best Randomized RF params:', rand_rf.best_params_)\n",
    "print('Best Randomized RF CV score:', rand_rf.best_score_)"
   ]
  },
  {
   "cell_type": "markdown",
   "id": "12a36745",
   "metadata": {},
   "source": []
  },
  {
   "cell_type": "markdown",
   "id": "ea9b0b3d",
   "metadata": {},
   "source": [
    "## XGBoost baseline and tuning"
   ]
  },
  {
   "cell_type": "code",
   "execution_count": null,
   "id": "7834e019",
   "metadata": {},
   "outputs": [],
   "source": [
    "xgb = XGBClassifier(use_label_encoder=False, eval_metric='mlogloss', random_state=42)\n",
    "xgb_scores = cross_val_score(xgb, X_train, y_train, cv=cv, scoring='accuracy')\n",
    "print('XGB CV mean accuracy: {:.4f} ± {:.4f}'.format(xgb_scores.mean(), xgb_scores.std()))"
   ]
  },
  {
   "cell_type": "code",
   "execution_count": null,
   "id": "1ed1a459",
   "metadata": {},
   "outputs": [],
   "source": [
    "# RandomizedSearchCV for XGBoost (recommended)\n",
    "from scipy.stats import uniform, randint\n",
    "param_dist_xgb = {\n",
    "    'n_estimators': randint(50, 301),\n",
    "    'max_depth': randint(3, 11),\n",
    "    'learning_rate': uniform(0.01, 0.3),\n",
    "    'subsample': uniform(0.5, 0.5),\n",
    "    'colsample_bytree': uniform(0.5, 0.5)\n",
    "}\n",
    "rand_xgb = RandomizedSearchCV(XGBClassifier(use_label_encoder=False, eval_metric='mlogloss', random_state=42),\n",
    "                              param_distributions=param_dist_xgb, n_iter=40, cv=cv, scoring='accuracy', n_jobs=-1, random_state=42, verbose=1)\n",
    "rand_xgb.fit(X_train, y_train)\n",
    "print('Best XGB params:', rand_xgb.best_params_)\n",
    "print('Best XGB CV score:', rand_xgb.best_score_)"
   ]
  },
  {
   "cell_type": "markdown",
   "id": "754428c6",
   "metadata": {},
   "source": [
    "## Evaluate best models on test set"
   ]
  },
  {
   "cell_type": "code",
   "execution_count": null,
   "id": "c164199a",
   "metadata": {},
   "outputs": [],
   "source": [
    "# Choose best from grid and randomized (prefer grid_rf.best_estimator_ if available)\n",
    "best_rf = grid_rf.best_estimator_ if hasattr(grid_rf, 'best_estimator_') else rand_rf.best_estimator_\n",
    "best_xgb = rand_xgb.best_estimator_ if hasattr(rand_xgb, 'best_estimator_') else xgb\n",
    "\n",
    "for name, model in [('RandomForest', best_rf), ('XGBoost', best_xgb)]:\n",
    "    y_pred = model.predict(X_test)\n",
    "    acc = accuracy_score(y_test, y_pred)\n",
    "    f1 = f1_score(y_test, y_pred, average='weighted')\n",
    "    print(f\"{name} Test Accuracy: {acc:.4f}, F1-weighted: {f1:.4f}\")\n",
    "    print(classification_report(y_test, y_pred))"
   ]
  },
  {
   "cell_type": "markdown",
   "id": "8f47821b",
   "metadata": {},
   "source": [
    "## Save best models"
   ]
  },
  {
   "cell_type": "code",
   "execution_count": null,
   "id": "0123265e",
   "metadata": {},
   "outputs": [],
   "source": [
    "joblib.dump(best_rf, 'best_rf.joblib')\n",
    "joblib.dump(best_xgb, 'best_xgb.joblib')\n",
    "print('Saved best_rf.joblib and best_xgb.joblib')"
   ]
  },
  {
   "cell_type": "markdown",
   "id": "2e667577",
   "metadata": {},
   "source": [
    "## Plots (feature importances, confusion matrix example)"
   ]
  },
  {
   "cell_type": "code",
   "execution_count": null,
   "id": "773da628",
   "metadata": {},
   "outputs": [],
   "source": [
    "# Feature importance for RF\n",
    "importances = best_rf.feature_importances_\n",
    "idx = np.argsort(importances)[::-1]\n",
    "plt.figure(figsize=(8,5))\n",
    "plt.bar(range(len(importances)), importances[idx])\n",
    "plt.xticks(range(len(importances)), X.columns[idx], rotation=90)\n",
    "plt.title('Random Forest Feature Importances')\n",
    "plt.tight_layout()\n",
    "plt.show()"
   ]
  }
 ],
 "metadata": {
  "kernelspec": {
   "display_name": "venv",
   "language": "python",
   "name": "python3"
  },
  "language_info": {
   "codemirror_mode": {
    "name": "ipython",
    "version": 3
   },
   "file_extension": ".py",
   "mimetype": "text/x-python",
   "name": "python",
   "nbconvert_exporter": "python",
   "pygments_lexer": "ipython3",
   "version": "3.12.6"
  }
 },
 "nbformat": 4,
 "nbformat_minor": 5
}
