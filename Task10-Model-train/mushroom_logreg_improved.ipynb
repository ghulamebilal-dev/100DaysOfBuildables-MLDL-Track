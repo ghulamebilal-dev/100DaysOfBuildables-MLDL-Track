{
 "cells": [
  {
   "cell_type": "markdown",
   "id": "d2b77108",
   "metadata": {},
   "source": [
    "# Mushroom Classification — Improved Logistic Regression Baseline\n",
    "\n",
    "This notebook trains a Logistic Regression classifier with stratified train/test split, class_weight='balanced', and Stratified 5-Fold cross-validation.\n",
    "It includes preprocessing (One-Hot encoding), model training, evaluation, and visualizations (confusion matrix & ROC curve).\n"
   ]
  },
  {
   "cell_type": "code",
   "execution_count": null,
   "id": "c54ff02c",
   "metadata": {},
   "outputs": [],
   "source": [
    "import pandas as pd\n",
    "df = pd.read_csv(\"mushrooms_sample.csv\")\n",
    "df.head()\n"
   ]
  },
  {
   "cell_type": "code",
   "execution_count": null,
   "id": "0991e8d3",
   "metadata": {},
   "outputs": [],
   "source": [
    "from sklearn.model_selection import train_test_split, StratifiedKFold, cross_val_score\n",
    "from sklearn.preprocessing import OneHotEncoder\n",
    "from sklearn.compose import ColumnTransformer\n",
    "from sklearn.pipeline import Pipeline\n",
    "from sklearn.linear_model import LogisticRegression\n",
    "from sklearn.metrics import accuracy_score, f1_score, classification_report\n",
    "import numpy as np\n",
    "\n",
    "X = df.drop(columns=['class'])\n",
    "y = df['class']\n",
    "\n",
    "cat_cols = X.select_dtypes(include=['object']).columns.tolist()\n",
    "pre = ColumnTransformer(transformers=[('cat', OneHotEncoder(handle_unknown='ignore', sparse=False), cat_cols)])\n",
    "model = Pipeline(steps=[('pre', pre), ('clf', LogisticRegression(max_iter=2000, class_weight='balanced', solver='lbfgs'))])\n",
    "\n",
    "X_train, X_test, y_train, y_test = train_test_split(X, y, test_size=0.2, random_state=42, stratify=y)\n",
    "model.fit(X_train, y_train)\n",
    "\n",
    "train_preds = model.predict(X_train)\n",
    "test_preds = model.predict(X_test)\n",
    "\n",
    "train_acc = accuracy_score(y_train, train_preds)\n",
    "test_acc = accuracy_score(y_test, test_preds)\n",
    "f1 = f1_score(y_test, test_preds, average='weighted')\n",
    "print(\"Train Accuracy:\", train_acc)\n",
    "print(\"Test Accuracy:\", test_acc)\n",
    "print(\"F1 Score (Test, weighted):\", f1)\n",
    "\n",
    "cv = StratifiedKFold(n_splits=5, shuffle=True, random_state=42)\n",
    "cv_acc_scores = cross_val_score(model, X, y, cv=cv, scoring='accuracy')\n",
    "cv_f1_scores = cross_val_score(model, X, y, cv=cv, scoring='f1_weighted')\n",
    "print(\"\\nCV Accuracy scores:\", cv_acc_scores)\n",
    "print(\"Mean CV Accuracy:\", np.mean(cv_acc_scores), \"Std:\", np.std(cv_acc_scores))\n",
    "print(\"\\nCV F1-weighted scores:\", cv_f1_scores)\n",
    "print(\"Mean CV F1-weighted:\", np.mean(cv_f1_scores), \"Std:\", np.std(cv_f1_scores))\n",
    "\n",
    "print(\"\\nClassification Report (Test):\\n\", classification_report(y_test, test_preds))\n"
   ]
  },
  {
   "cell_type": "markdown",
   "id": "ab025849",
   "metadata": {},
   "source": [
    "### Visualizations\n",
    "\n",
    "Confusion Matrix:\n",
    "\n",
    "![](confusion_matrix_stratified.png)\n",
    "\n",
    "ROC Curve:\n",
    "\n",
    "![](roc_curve_stratified.png)\n",
    "\n"
   ]
  },
  {
   "cell_type": "markdown",
   "id": "03ac5877",
   "metadata": {},
   "source": [
    "### Results\n",
    "\n",
    "Mushroom Classification - Logistic Regression (Improved Baseline)  \n",
    "  \n",
    "Train Accuracy: 0.875000  \n",
    "Test Accuracy: 1.000000  \n",
    "F1 Score (Test, weighted): 1.000000  \n",
    "  \n",
    "Cross-validation (5-fold Stratified):  \n",
    "Accuracy scores: [0.5, 1. , 1. , 1. , 1. ]  \n",
    "Mean CV Accuracy: 0.9000  Std: 0.2000  \n",
    "  \n",
    "F1 (weighted) CV scores: [0.6667, 1.    , 1.    , 1.    , 1.    ]  \n",
    "Mean CV F1-weighted: 0.9333  Std: 0.1333  \n",
    "  \n",
    "Classification Report (Test):  \n",
    "              precision    recall  f1-score   support  \n",
    "  \n",
    "           e       1.00      1.00      1.00         1  \n",
    "           p       1.00      1.00      1.00         1  \n",
    "  \n",
    "    accuracy                           1.00         2  \n",
    "   macro avg       1.00      1.00      1.00         2  \n",
    "weighted avg       1.00      1.00      1.00         2  \n",
    "  \n"
   ]
  }
 ],
 "metadata": {},
 "nbformat": 4,
 "nbformat_minor": 5
}
